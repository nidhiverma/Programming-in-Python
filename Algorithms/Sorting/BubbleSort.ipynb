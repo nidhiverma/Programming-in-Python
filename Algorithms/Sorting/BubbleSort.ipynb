{
 "cells": [
  {
   "cell_type": "code",
   "execution_count": 3,
   "metadata": {},
   "outputs": [],
   "source": [
    "def bubble(mylist, i, j):\n",
    "    '''\n",
    "    Objective: helper function to partially sort a list by placing the smallest value at the first position of the unsorted list\n",
    "    Input Pamameter: \n",
    "        mylist: a list of integers\n",
    "        j: upper index of bubble sort\n",
    "        i: lower index of bubble\n",
    "    Return Value: partially sorted list\n",
    "    '''\n",
    "    if j == i:\n",
    "        return mylist\n",
    "    if mylist[j] < mylist[j-1]:\n",
    "        tmp = mylist[j]\n",
    "        mylist[j] = mylist[j-1]\n",
    "        mylist[j-1] = tmp\n",
    "    bubble(mylist, i, j-1)\n",
    "    \n",
    "def bubbleSort(mylist, start = 0, end = -1):\n",
    "    '''\n",
    "    Objective: function to sort a list using bubble sort\n",
    "    Input Parameters: \n",
    "        mylist: list of integers\n",
    "    Return Value: sorted list\n",
    "    '''\n",
    "    if end == -1:\n",
    "        end = len(mylist)-1\n",
    "    if start == end:\n",
    "        return mylist\n",
    "    else:\n",
    "        n = bubble(mylist, start, end)\n",
    "        bubbleSort(mylist, start + 1, end)\n"
   ]
  },
  {
   "cell_type": "code",
   "execution_count": 4,
   "metadata": {},
   "outputs": [
    {
     "name": "stdout",
     "output_type": "stream",
     "text": [
      "[5, 10, 20, 30, 33, 60, 80, 96]\n"
     ]
    }
   ],
   "source": [
    "lst1 = [10, 60, 30, 20, 80, 5, 96, 33]\n",
    "bubbleSort(lst1)\n",
    "print(lst1)"
   ]
  },
  {
   "cell_type": "code",
   "execution_count": null,
   "metadata": {},
   "outputs": [],
   "source": []
  }
 ],
 "metadata": {
  "kernelspec": {
   "display_name": "Python 3",
   "language": "python",
   "name": "python3"
  },
  "language_info": {
   "codemirror_mode": {
    "name": "ipython",
    "version": 3
   },
   "file_extension": ".py",
   "mimetype": "text/x-python",
   "name": "python",
   "nbconvert_exporter": "python",
   "pygments_lexer": "ipython3",
   "version": "3.7.1"
  }
 },
 "nbformat": 4,
 "nbformat_minor": 2
}
