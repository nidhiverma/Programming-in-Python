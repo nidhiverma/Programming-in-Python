{
 "cells": [
  {
   "cell_type": "code",
   "execution_count": 1,
   "metadata": {},
   "outputs": [],
   "source": [
    "def sort(myList, x, index):\n",
    "    '''\n",
    "    Objective: helper function to partially sort a list\n",
    "    Input Parameters: \n",
    "        myList: list of integers\n",
    "        x: value to be inserted\n",
    "        index: index value upto which the list n is already sorted\n",
    "    Return Value: partially sorted list \n",
    "    ''' \n",
    "    '''\n",
    "    Approach: Insert x into its correct position in range [0,index+1]\n",
    "    '''\n",
    "    if index < 0:\n",
    "        myList.insert(0,x)\n",
    "        return myList\n",
    "    if x < myList[index]:\n",
    "        index -= 1\n",
    "    elif x >= myList[index]:\n",
    "        myList.insert(index+1,x)\n",
    "        return myList\n",
    "    return sort(myList,x,index)\n",
    "\n",
    "def insertionSort(myList, index = 0):\n",
    "    '''\n",
    "    Objective: To sort a given list using Insertion Sort\n",
    "    Input Parmeters: \n",
    "        myList: list of integers\n",
    "    Return Value: sorted list\n",
    "    '''\n",
    "    '''\n",
    "    Approach: using recursion\n",
    "    '''\n",
    "    \n",
    "    if index == len(myList):\n",
    "        return myList\n",
    "    if index < len(myList)-1:\n",
    "        tmp = myList.pop(index+1)\n",
    "        myList = sort(myList, tmp, index)\n",
    "    return insertionSort(myList, index+1) "
   ]
  },
  {
   "cell_type": "code",
   "execution_count": 2,
   "metadata": {},
   "outputs": [
    {
     "data": {
      "text/plain": [
       "[9, 13, 65, 87]"
      ]
     },
     "execution_count": 2,
     "metadata": {},
     "output_type": "execute_result"
    }
   ],
   "source": [
    "insertionSort([87,65, 9, 13])"
   ]
  },
  {
   "cell_type": "code",
   "execution_count": 3,
   "metadata": {},
   "outputs": [
    {
     "data": {
      "text/plain": [
       "[12, 43, 56, 90]"
      ]
     },
     "execution_count": 3,
     "metadata": {},
     "output_type": "execute_result"
    }
   ],
   "source": [
    "insertionSort([43,12,90,56])"
   ]
  },
  {
   "cell_type": "code",
   "execution_count": 4,
   "metadata": {},
   "outputs": [
    {
     "data": {
      "text/plain": [
       "[12, 43, 56, 90]"
      ]
     },
     "execution_count": 4,
     "metadata": {},
     "output_type": "execute_result"
    }
   ],
   "source": [
    "insertionSort([43,12,90,56])"
   ]
  },
  {
   "cell_type": "code",
   "execution_count": 28,
   "metadata": {},
   "outputs": [
    {
     "data": {
      "text/plain": [
       "[12, 34, 43, 56, 90]"
      ]
     },
     "execution_count": 28,
     "metadata": {},
     "output_type": "execute_result"
    }
   ],
   "source": [
    "insertionSort([43,12,90,56],34)"
   ]
  },
  {
   "cell_type": "code",
   "execution_count": 29,
   "metadata": {},
   "outputs": [
    {
     "name": "stdout",
     "output_type": "stream",
     "text": [
      "Help on function insertionSort in module __main__:\n",
      "\n",
      "insertionSort(myList, x, index=0)\n",
      "    Objective: insert an element in an unsorted list and then sort the list\n",
      "    Input Parmeters: \n",
      "        myList: list of integers\n",
      "        x: element to be inserted\n",
      "    Return Value: sorted list with element inserted\n",
      "\n"
     ]
    }
   ],
   "source": [
    "help(insertionSort)"
   ]
  },
  {
   "cell_type": "code",
   "execution_count": 17,
   "metadata": {},
   "outputs": [
    {
     "name": "stdout",
     "output_type": "stream",
     "text": [
      "Help on function sort in module __main__:\n",
      "\n",
      "sort(n, x, index)\n",
      "    Objective: helper function to partially sort a list\n",
      "    Input Parameters: \n",
      "        n: list of integers\n",
      "        x: value to be inserted\n",
      "        index: index value upto which the list n is already sorted\n",
      "    Return Value: partially sorted list\n",
      "\n"
     ]
    }
   ],
   "source": [
    "help(sort)"
   ]
  },
  {
   "cell_type": "code",
   "execution_count": null,
   "metadata": {},
   "outputs": [],
   "source": []
  },
  {
   "cell_type": "code",
   "execution_count": null,
   "metadata": {},
   "outputs": [],
   "source": []
  }
 ],
 "metadata": {
  "kernelspec": {
   "display_name": "Python 3",
   "language": "python",
   "name": "python3"
  },
  "language_info": {
   "codemirror_mode": {
    "name": "ipython",
    "version": 3
   },
   "file_extension": ".py",
   "mimetype": "text/x-python",
   "name": "python",
   "nbconvert_exporter": "python",
   "pygments_lexer": "ipython3",
   "version": "3.7.1"
  }
 },
 "nbformat": 4,
 "nbformat_minor": 2
}
