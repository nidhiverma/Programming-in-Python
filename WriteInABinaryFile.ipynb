{
 "cells": [
  {
   "cell_type": "code",
   "execution_count": 1,
   "metadata": {},
   "outputs": [
    {
     "name": "stdout",
     "output_type": "stream",
     "text": [
      "['hello', 'world'] {1: 'one', 2: 'two'}\n"
     ]
    }
   ],
   "source": [
    "import pickle\n",
    "def main():\n",
    "    '''\n",
    "    Objective: To write and read a list and dictionary to \n",
    "    and from a file\n",
    "    Input Parameter: None\n",
    "    Return Value: None\n",
    "    '''\n",
    "    f = open('file1', 'wb')\n",
    "    pickle.dump(['hello', 'world'], f)\n",
    "    pickle.dump({1:'one', 2:'two'}, f)\n",
    "    f.close()\n",
    "    f = open('file1', 'rb')\n",
    "    value1 = pickle.load(f)\n",
    "    value2 = pickle.load(f)\n",
    "    print(value1, value2)\n",
    "    f.close()\n",
    "if __name__ == '__main__':\n",
    "    main()"
   ]
  },
  {
   "cell_type": "code",
   "execution_count": null,
   "metadata": {},
   "outputs": [],
   "source": []
  }
 ],
 "metadata": {
  "kernelspec": {
   "display_name": "Python 3",
   "language": "python",
   "name": "python3"
  },
  "language_info": {
   "codemirror_mode": {
    "name": "ipython",
    "version": 3
   },
   "file_extension": ".py",
   "mimetype": "text/x-python",
   "name": "python",
   "nbconvert_exporter": "python",
   "pygments_lexer": "ipython3",
   "version": "3.7.1"
  }
 },
 "nbformat": 4,
 "nbformat_minor": 2
}
