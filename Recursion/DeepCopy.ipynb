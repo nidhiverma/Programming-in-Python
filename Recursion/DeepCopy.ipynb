{
 "cells": [
  {
   "cell_type": "code",
   "execution_count": 10,
   "metadata": {},
   "outputs": [
    {
     "name": "stdout",
     "output_type": "stream",
     "text": [
      "List elements: [1, 2, [3, 4], [5, [6, 7, [8]], 9], 10]\n",
      "Deep Copy:  [1, 2, [3, 4], [5, [6, 7, [8]], 9], 10]\n"
     ]
    }
   ],
   "source": [
    "def deepCopy(lst1, lst2 = [], index = 0):\n",
    "    '''\n",
    "    Objective: To create a deep copy of list lst1\n",
    "    Input Prameters: 2 lists - lst1, lst2\n",
    "    Return Value: copy of lst1 i.e. lst2\n",
    "    '''\n",
    "    \n",
    "    if index == len(lst1):\n",
    "        return lst2\n",
    "    \n",
    "    if type(lst1[index]) != list:\n",
    "        lst2.append(lst1[index])\n",
    "    else:    \n",
    "        lst2.append([])\n",
    "        deepCopy(lst1[index], lst2[-1], 0)\n",
    "    \n",
    "    deepCopy(lst1, lst2, index+1)\n",
    "    \n",
    "    return lst2\n",
    "\n",
    "def main():\n",
    "    lst1 = eval(input(\"List elements: \"))\n",
    "    lst2 = deepCopy(lst1)\n",
    "    print(\"Deep Copy: \", lst2)\n",
    "\n",
    "if __name__ == '__main__':\n",
    "    main()"
   ]
  },
  {
   "cell_type": "code",
   "execution_count": null,
   "metadata": {},
   "outputs": [],
   "source": []
  }
 ],
 "metadata": {
  "kernelspec": {
   "display_name": "Python 3",
   "language": "python",
   "name": "python3"
  },
  "language_info": {
   "codemirror_mode": {
    "name": "ipython",
    "version": 3
   },
   "file_extension": ".py",
   "mimetype": "text/x-python",
   "name": "python",
   "nbconvert_exporter": "python",
   "pygments_lexer": "ipython3",
   "version": "3.7.1"
  }
 },
 "nbformat": 4,
 "nbformat_minor": 2
}
