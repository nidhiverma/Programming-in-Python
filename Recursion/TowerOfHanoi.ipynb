{
 "cells": [
  {
   "cell_type": "code",
   "execution_count": 4,
   "metadata": {},
   "outputs": [
    {
     "name": "stdout",
     "output_type": "stream",
     "text": [
      "No. of discs: 3\n",
      "Source Pole: A\n",
      "Spare Pole: B\n",
      "Target Pole: C\n",
      "Move disc from  A  to  C\n",
      "Move disc from  A  to  B\n",
      "Move disc from  C  to  B\n",
      "Move disc from  A  to  C\n",
      "Move disc from  B  to  A\n",
      "Move disc from  B  to  C\n",
      "Move disc from  A  to  C\n"
     ]
    }
   ],
   "source": [
    "def towerOfHanoi(n, source, target, spare):\n",
    "    '''\n",
    "    Objective: To solve the problem of tower of Hanoi using n discs and 3 poles\n",
    "    Input Parameter:\n",
    "        n: no. of discs to be transferred\n",
    "        spare: auxiliary tower\n",
    "        source: Pole on which the discs are initially placed \n",
    "        target: Pole on which discs are to be transferred\n",
    "    Return Value: none\n",
    "    '''\n",
    "    \n",
    "    if n == 1:\n",
    "        print('Move disc from ', source, ' to ', target)\n",
    "        return\n",
    "    else:\n",
    "        towerOfHanoi(n-1, source, spare, target)\n",
    "        print('Move disc from ', source, ' to ', target)\n",
    "        towerOfHanoi(n-1, spare, target, source)\n",
    "\n",
    "def main():\n",
    "    n = int(input('No. of discs: '))\n",
    "    source = input('Source Pole: ')\n",
    "    spare = input('Spare Pole: ')\n",
    "    target = input('Target Pole: ')\n",
    "    towerOfHanoi(n, source, target, spare)\n",
    "\n",
    "if __name__ == '__main__':\n",
    "    main()\n",
    "    "
   ]
  },
  {
   "cell_type": "code",
   "execution_count": null,
   "metadata": {},
   "outputs": [],
   "source": []
  }
 ],
 "metadata": {
  "kernelspec": {
   "display_name": "Python 3",
   "language": "python",
   "name": "python3"
  },
  "language_info": {
   "codemirror_mode": {
    "name": "ipython",
    "version": 3
   },
   "file_extension": ".py",
   "mimetype": "text/x-python",
   "name": "python",
   "nbconvert_exporter": "python",
   "pygments_lexer": "ipython3",
   "version": "3.7.1"
  }
 },
 "nbformat": 4,
 "nbformat_minor": 2
}
