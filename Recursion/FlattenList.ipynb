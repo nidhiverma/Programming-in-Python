{
 "cells": [
  {
   "cell_type": "code",
   "execution_count": 4,
   "metadata": {},
   "outputs": [
    {
     "name": "stdout",
     "output_type": "stream",
     "text": [
      "Enter list elements [1, [2, 3], 4, [5, [6, 7], 8], 9, 10]\n",
      "After flattening  [1, 2, 3, 4, 5, 6, 7, 8, 9, 10]\n"
     ]
    }
   ],
   "source": [
    "def flattenList(mylist, flat_list = [], index = 0):\n",
    "    '''\n",
    "        Objective: Function to copy a list to another list\n",
    "        Input Parameters: \n",
    "            mylist: a list which is to be copied\n",
    "        Return: copy of the list \n",
    "    '''\n",
    "    if index == len(mylist):\n",
    "        return flat_list\n",
    "    \n",
    "    if type(mylist[index]) == list:\n",
    "        flattenList(mylist[index], flat_list)\n",
    "    else:\n",
    "        flat_list.append(mylist[index])\n",
    "        \n",
    "    return flattenList(mylist, flat_list, index+1)\n",
    "\n",
    "def main():\n",
    "    lst1 = eval(input(\"Enter list elements \"))\n",
    "    lst2 = flattenList(lst1)\n",
    "    print('After flattening ', lst2)\n",
    "\n",
    "if __name__ == '__main__':\n",
    "    main()\n"
   ]
  },
  {
   "cell_type": "code",
   "execution_count": null,
   "metadata": {},
   "outputs": [],
   "source": []
  }
 ],
 "metadata": {
  "kernelspec": {
   "display_name": "Python 3",
   "language": "python",
   "name": "python3"
  },
  "language_info": {
   "codemirror_mode": {
    "name": "ipython",
    "version": 3
   },
   "file_extension": ".py",
   "mimetype": "text/x-python",
   "name": "python",
   "nbconvert_exporter": "python",
   "pygments_lexer": "ipython3",
   "version": "3.7.1"
  }
 },
 "nbformat": 4,
 "nbformat_minor": 2
}
