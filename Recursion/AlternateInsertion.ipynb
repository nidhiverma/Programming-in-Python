{
 "cells": [
  {
   "cell_type": "code",
   "execution_count": 6,
   "metadata": {},
   "outputs": [
    {
     "name": "stdout",
     "output_type": "stream",
     "text": [
      "Enter list elements: 1 2 3 4 5 6\n",
      "Element to be inserted: 0\n",
      "Updated list:  [1, 0, 2, 0, 3, 0, 4, 0, 5, 0, 6]\n"
     ]
    }
   ],
   "source": [
    "def alternateInsertion(mylist, element, index = 1):\n",
    "    '''\n",
    "    Objective: To insert an element at alternate positions in a given list\n",
    "    Input Parameters: \n",
    "        mylist: Given list\n",
    "        element: Element to be inserted\n",
    "    Return Value: updated list\n",
    "    '''\n",
    "    \n",
    "    if index >= len(mylist):\n",
    "        return mylist\n",
    "\n",
    "    mylist.insert(index, element)\n",
    "    alternateInsertion(mylist, element, index+2)\n",
    "    return mylist\n",
    "\n",
    "def main():\n",
    "    mylist = list(map(int, input('Enter list elements: ').strip().split()))\n",
    "    element = int(input('Element to be inserted: '))\n",
    "    mylist = alternateInsertion(mylist, element)\n",
    "    print('Updated list: ', mylist)\n",
    "    \n",
    "if __name__ == '__main__':\n",
    "    main()"
   ]
  },
  {
   "cell_type": "code",
   "execution_count": null,
   "metadata": {},
   "outputs": [],
   "source": []
  },
  {
   "cell_type": "code",
   "execution_count": null,
   "metadata": {},
   "outputs": [],
   "source": []
  }
 ],
 "metadata": {
  "kernelspec": {
   "display_name": "Python 3",
   "language": "python",
   "name": "python3"
  },
  "language_info": {
   "codemirror_mode": {
    "name": "ipython",
    "version": 3
   },
   "file_extension": ".py",
   "mimetype": "text/x-python",
   "name": "python",
   "nbconvert_exporter": "python",
   "pygments_lexer": "ipython3",
   "version": "3.7.1"
  }
 },
 "nbformat": 4,
 "nbformat_minor": 2
}
