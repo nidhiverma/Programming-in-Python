{
 "cells": [
  {
   "cell_type": "code",
   "execution_count": 6,
   "metadata": {
    "scrolled": true
   },
   "outputs": [
    {
     "name": "stdout",
     "output_type": "stream",
     "text": [
      "List elements: 1,2,3,4,5\n",
      "Copy of lst1:  [1, 2, 3, 4, 5]\n"
     ]
    }
   ],
   "source": [
    "def copy(lst1, lst2 = [], index = 0):\n",
    "    '''\n",
    "    Objective: To create a copy of list lst1\n",
    "    Input Prameters: 2 lists - lst1, lst2\n",
    "    Return Value: copy of lst1 i.e. lst2\n",
    "    '''\n",
    "    \n",
    "    if index == len(lst1):\n",
    "        return lst2\n",
    "    else:\n",
    "        lst2.append(lst1[index])\n",
    "        copy(lst1, lst2, index+1)\n",
    "    return lst2\n",
    "\n",
    "def main():\n",
    "    lst1 = eval(input(\"List elements: \"))\n",
    "    lst2 = copy(lst1)\n",
    "    print(\"Copy of lst1: \", lst2)\n",
    "\n",
    "if __name__ == '__main__':\n",
    "    main()"
   ]
  },
  {
   "cell_type": "code",
   "execution_count": null,
   "metadata": {},
   "outputs": [],
   "source": []
  }
 ],
 "metadata": {
  "kernelspec": {
   "display_name": "Python 3",
   "language": "python",
   "name": "python3"
  },
  "language_info": {
   "codemirror_mode": {
    "name": "ipython",
    "version": 3
   },
   "file_extension": ".py",
   "mimetype": "text/x-python",
   "name": "python",
   "nbconvert_exporter": "python",
   "pygments_lexer": "ipython3",
   "version": "3.7.1"
  }
 },
 "nbformat": 4,
 "nbformat_minor": 2
}
