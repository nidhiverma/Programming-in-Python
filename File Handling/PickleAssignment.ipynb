{
 "cells": [
  {
   "cell_type": "code",
   "execution_count": 52,
   "metadata": {},
   "outputs": [],
   "source": [
    "import pickle"
   ]
  },
  {
   "cell_type": "markdown",
   "metadata": {},
   "source": [
    "### Declare a Student class"
   ]
  },
  {
   "cell_type": "code",
   "execution_count": 81,
   "metadata": {},
   "outputs": [],
   "source": [
    "class Student:\n",
    "    def __init__(self, rollno, name, marks):\n",
    "        '''\n",
    "        Constructor for the class Student\n",
    "        Input Parameters: \n",
    "            rollno: roll no. of the student\n",
    "            name: name of the student\n",
    "            marks: marks of the student\n",
    "        Return Values: reference to student class object\n",
    "        '''\n",
    "        self.rollno = rollno\n",
    "        self.name = name\n",
    "        self.marks = marks\n",
    "        \n",
    "    def getRollno(self):\n",
    "        '''\n",
    "            Objective: to access the name of the student\n",
    "            Input Parameters: student object reference\n",
    "            Return Value: rollno of the student \n",
    "        '''\n",
    "        return self.rollno\n",
    "    \n",
    "    def getName(self):\n",
    "        '''\n",
    "            Objective: to access the name of the student\n",
    "            Input Parameters: student object reference\n",
    "            Return Value: name of the student \n",
    "        '''\n",
    "        return self.name\n",
    "    \n",
    "    def getMarks(self):\n",
    "        '''\n",
    "            Objective: to access the name of the student\n",
    "            Input Parameters: student object reference\n",
    "            Return Value: marks of the student \n",
    "        '''\n",
    "        return self.marks\n",
    "    \n",
    "    def updateMarks(self, marks):\n",
    "        self.marks = marks\n",
    "    \n",
    "    def __repr__(self):\n",
    "        return f'rollno: {self.rollno}, name: {self.name}, marks: {self.marks}'"
   ]
  },
  {
   "cell_type": "markdown",
   "metadata": {},
   "source": [
    "### Read data from a text file (student.txt): RollNo, Name, marks and create a file (studentObj)   objects of class Student"
   ]
  },
  {
   "cell_type": "code",
   "execution_count": 82,
   "metadata": {},
   "outputs": [],
   "source": [
    "def createObjectFile(studentTextFile, studentObjFile):\n",
    "    '''\n",
    "        Objective: to create a student object file after reading the text from student text file\n",
    "        Input Parameters: \n",
    "            studentTextFile: a text file containing student record\n",
    "            studentObjFile: a binary file in which student object data is to be stored\n",
    "        Return value: none\n",
    "    '''\n",
    "    student_list = list()\n",
    "    with open(studentTextFile, 'r') as studTextFile:\n",
    "        for student in studTextFile:\n",
    "            student.strip()\n",
    "            details = student.split(',')\n",
    "            s = Student(int(details[0]),details[1],int(details[2]))\n",
    "            student_list.append(s)\n",
    "    with open(studentObjFile, 'wb') as studObjFile:\n",
    "        pickle.dump(student_list, studObjFile)"
   ]
  },
  {
   "cell_type": "code",
   "execution_count": 83,
   "metadata": {},
   "outputs": [],
   "source": [
    "studentTextFile = 'students.txt'\n",
    "studentObjFile = 'studentObj.pkl'\n",
    "createObjectFile(studentTextFile, studentObjFile)"
   ]
  },
  {
   "cell_type": "code",
   "execution_count": 84,
   "metadata": {},
   "outputs": [],
   "source": [
    "def printFile(inputFile):\n",
    "    '''\n",
    "        Objective: to print the contents of a file\n",
    "        Input Paramaters:\n",
    "            inputFile: file whose content is to be printed\n",
    "        Return Value: none\n",
    "    '''\n",
    "    with open(inputFile, 'rb') as studentFile:\n",
    "        for student in pickle.load(studentFile):\n",
    "            print(student)"
   ]
  },
  {
   "cell_type": "code",
   "execution_count": 85,
   "metadata": {},
   "outputs": [
    {
     "name": "stdout",
     "output_type": "stream",
     "text": [
      "rollno: 101, name: Megha, marks: 80\n",
      "rollno: 102, name: Diya, marks: 79\n",
      "rollno: 103, name: Nidhi, marks: 85\n",
      "rollno: 104, name: Prateek, marks: 89\n",
      "rollno: 105, name: Manas, marks: 75\n",
      "rollno: 106, name: Anurag, marks: 97\n",
      "rollno: 107, name: Neha, marks: 65\n",
      "rollno: 108, name: Sumit, marks: 70\n",
      "rollno: 109, name: Nitin, marks: 95\n"
     ]
    }
   ],
   "source": [
    "printFile(studentObjFile)"
   ]
  },
  {
   "cell_type": "markdown",
   "metadata": {},
   "source": [
    "### Read the file of objects (studentObj) and  a text file containing Roll No, marks (revised.txt) for students whose marks have been revised and create updated file of Student objects"
   ]
  },
  {
   "cell_type": "code",
   "execution_count": 86,
   "metadata": {},
   "outputs": [],
   "source": [
    "def updateFile(studentObjFile, revisedTextfile):\n",
    "    '''\n",
    "        Objective: create updated file of Student objects with revised marks\n",
    "        Input Parameters: \n",
    "            studentObjFile: file of student objects which is to be updated\n",
    "            revisedTextFile: file containing the revised marks\n",
    "        Return Value: none\n",
    "    '''\n",
    "    with open(studentObjFile, 'rb') as studentObj:\n",
    "        student_list = pickle.load(studentObj)\n",
    "        \n",
    "    with open(revisedTextFile, 'r') as revised:\n",
    "        for line in revised:\n",
    "            line.strip()\n",
    "            record = line.split(',')\n",
    "            for student in student_list:\n",
    "                if int(record[0].strip()) == student.getRollno():\n",
    "                    student.updateMarks(int(record[1].strip()))\n",
    "                    \n",
    "    with open(studentObjFile, 'wb') as studentObj:\n",
    "        pickle.dump(student_list, studentObj)"
   ]
  },
  {
   "cell_type": "code",
   "execution_count": 87,
   "metadata": {},
   "outputs": [],
   "source": [
    "revisedTextFile = 'revised.txt'\n",
    "updateFile(studentObjFile, revisedTextFile)"
   ]
  },
  {
   "cell_type": "markdown",
   "metadata": {},
   "source": [
    "### Read the updated file created in step 2 to display the data objects line by line"
   ]
  },
  {
   "cell_type": "code",
   "execution_count": 88,
   "metadata": {},
   "outputs": [
    {
     "name": "stdout",
     "output_type": "stream",
     "text": [
      "rollno: 101, name: Megha, marks: 80\n",
      "rollno: 102, name: Diya, marks: 92\n",
      "rollno: 103, name: Nidhi, marks: 94\n",
      "rollno: 104, name: Prateek, marks: 90\n",
      "rollno: 105, name: Manas, marks: 75\n",
      "rollno: 106, name: Anurag, marks: 97\n",
      "rollno: 107, name: Neha, marks: 65\n",
      "rollno: 108, name: Sumit, marks: 87\n",
      "rollno: 109, name: Nitin, marks: 95\n"
     ]
    }
   ],
   "source": [
    "printFile(studentObjFile)"
   ]
  }
 ],
 "metadata": {
  "kernelspec": {
   "display_name": "Python 3",
   "language": "python",
   "name": "python3"
  },
  "language_info": {
   "codemirror_mode": {
    "name": "ipython",
    "version": 3
   },
   "file_extension": ".py",
   "mimetype": "text/x-python",
   "name": "python",
   "nbconvert_exporter": "python",
   "pygments_lexer": "ipython3",
   "version": "3.7.1"
  }
 },
 "nbformat": 4,
 "nbformat_minor": 2
}
