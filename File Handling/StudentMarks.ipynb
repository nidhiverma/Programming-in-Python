{
 "cells": [
  {
   "cell_type": "code",
   "execution_count": 128,
   "metadata": {},
   "outputs": [],
   "source": [
    "import pickle"
   ]
  },
  {
   "cell_type": "markdown",
   "metadata": {},
   "source": [
    "### Declare a Student class"
   ]
  },
  {
   "cell_type": "code",
   "execution_count": 129,
   "metadata": {},
   "outputs": [],
   "source": [
    "class Student():\n",
    "    def __init__(self, rollno, name, marks):\n",
    "        self.rollno = rollno\n",
    "        self.name = name\n",
    "        self.marks = marks\n",
    "        \n",
    "    def getRollno(self):\n",
    "        return self.rollno\n",
    "    \n",
    "    def getName(self):\n",
    "        return self.name\n",
    "    \n",
    "    def getMarks(self):\n",
    "        return self.marks\n",
    "    \n",
    "    def updateMarks(self, marks):\n",
    "        self.marks = marks\n",
    "    \n",
    "    def __repr__(self):\n",
    "        return f'Roll No: {self.rollno}, Name: {self.name}, Marks: {self.marks}'"
   ]
  },
  {
   "cell_type": "markdown",
   "metadata": {},
   "source": [
    "### Read data from a text file (student.txt): RollNo, Name, marks and create a file (studentObj)   objects of class Student"
   ]
  },
  {
   "cell_type": "code",
   "execution_count": 130,
   "metadata": {},
   "outputs": [],
   "source": [
    "records = list()\n",
    "with open('students.txt', 'r') as students:\n",
    "    for student in students:\n",
    "        student.strip()\n",
    "        details = student.split(',')\n",
    "        s = Student(int(details[0]),details[1],int(details[2]))\n",
    "        records.append(s)"
   ]
  },
  {
   "cell_type": "code",
   "execution_count": 131,
   "metadata": {},
   "outputs": [],
   "source": [
    "pickle.dump(records, file = open('studentObj.pkl', 'wb'))"
   ]
  },
  {
   "cell_type": "markdown",
   "metadata": {},
   "source": [
    "### Read the file of objects (studentObj) and  a text file containing Roll No, marks (revised.txt) for students whose marks have been revised and create updated file of Student objects"
   ]
  },
  {
   "cell_type": "code",
   "execution_count": 132,
   "metadata": {},
   "outputs": [],
   "source": [
    "student_list = pickle.load(file = open('studentObj.pkl', 'rb'))"
   ]
  },
  {
   "cell_type": "code",
   "execution_count": 133,
   "metadata": {},
   "outputs": [
    {
     "data": {
      "text/plain": [
       "[Roll No: 101, Name: Megha, Marks: 80,\n",
       " Roll No: 102, Name: Diya, Marks: 79,\n",
       " Roll No: 103, Name: Nidhi, Marks: 85,\n",
       " Roll No: 104, Name: Prateek, Marks: 89,\n",
       " Roll No: 105, Name: Manas, Marks: 75,\n",
       " Roll No: 106, Name: Anurag, Marks: 97,\n",
       " Roll No: 107, Name: Neha, Marks: 65,\n",
       " Roll No: 108, Name: Sumit, Marks: 70,\n",
       " Roll No: 109, Name: Nitin, Marks: 95]"
      ]
     },
     "execution_count": 133,
     "metadata": {},
     "output_type": "execute_result"
    }
   ],
   "source": [
    "# display students list\n",
    "student_list"
   ]
  },
  {
   "cell_type": "code",
   "execution_count": 134,
   "metadata": {},
   "outputs": [],
   "source": [
    "with open('revised.txt') as revised:\n",
    "    for line in revised:\n",
    "        line.strip()\n",
    "        record = line.split(',')\n",
    "        for student in student_list:\n",
    "            if int(record[0].strip()) == student.getRollno():\n",
    "                student.updateMarks(int(record[1].strip()))\n"
   ]
  },
  {
   "cell_type": "code",
   "execution_count": 135,
   "metadata": {},
   "outputs": [
    {
     "data": {
      "text/plain": [
       "[Roll No: 101, Name: Megha, Marks: 80,\n",
       " Roll No: 102, Name: Diya, Marks: 92,\n",
       " Roll No: 103, Name: Nidhi, Marks: 94,\n",
       " Roll No: 104, Name: Prateek, Marks: 90,\n",
       " Roll No: 105, Name: Manas, Marks: 75,\n",
       " Roll No: 106, Name: Anurag, Marks: 97,\n",
       " Roll No: 107, Name: Neha, Marks: 65,\n",
       " Roll No: 108, Name: Sumit, Marks: 87,\n",
       " Roll No: 109, Name: Nitin, Marks: 95]"
      ]
     },
     "execution_count": 135,
     "metadata": {},
     "output_type": "execute_result"
    }
   ],
   "source": [
    "# display updated students list\n",
    "student_list"
   ]
  },
  {
   "cell_type": "code",
   "execution_count": 136,
   "metadata": {},
   "outputs": [],
   "source": [
    "# store updated records in student object file\n",
    "pickle.dump(student_list, file = open('studentObj.pkl', 'wb'))"
   ]
  },
  {
   "cell_type": "markdown",
   "metadata": {},
   "source": [
    "### Read the updated file created in step 2 to display the data objects line by line."
   ]
  },
  {
   "cell_type": "code",
   "execution_count": 137,
   "metadata": {},
   "outputs": [],
   "source": [
    "# retrieve updated student record\n",
    "updated_marks_list = pickle.load(file = open('studentObj.pkl', 'rb'))"
   ]
  },
  {
   "cell_type": "code",
   "execution_count": 139,
   "metadata": {},
   "outputs": [
    {
     "data": {
      "text/plain": [
       "[Roll No: 101, Name: Megha, Marks: 80,\n",
       " Roll No: 102, Name: Diya, Marks: 92,\n",
       " Roll No: 103, Name: Nidhi, Marks: 94,\n",
       " Roll No: 104, Name: Prateek, Marks: 90,\n",
       " Roll No: 105, Name: Manas, Marks: 75,\n",
       " Roll No: 106, Name: Anurag, Marks: 97,\n",
       " Roll No: 107, Name: Neha, Marks: 65,\n",
       " Roll No: 108, Name: Sumit, Marks: 87,\n",
       " Roll No: 109, Name: Nitin, Marks: 95]"
      ]
     },
     "execution_count": 139,
     "metadata": {},
     "output_type": "execute_result"
    }
   ],
   "source": [
    "# display updated student list\n",
    "updated_marks_list"
   ]
  },
  {
   "cell_type": "code",
   "execution_count": null,
   "metadata": {},
   "outputs": [],
   "source": []
  }
 ],
 "metadata": {
  "kernelspec": {
   "display_name": "Python 3",
   "language": "python",
   "name": "python3"
  },
  "language_info": {
   "codemirror_mode": {
    "name": "ipython",
    "version": 3
   },
   "file_extension": ".py",
   "mimetype": "text/x-python",
   "name": "python",
   "nbconvert_exporter": "python",
   "pygments_lexer": "ipython3",
   "version": "3.7.1"
  }
 },
 "nbformat": 4,
 "nbformat_minor": 2
}
